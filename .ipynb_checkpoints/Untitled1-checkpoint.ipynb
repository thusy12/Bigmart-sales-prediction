{
 "cells": [
  {
   "cell_type": "code",
   "execution_count": null,
   "id": "identified-mother",
   "metadata": {},
   "outputs": [],
   "source": [
    "# Import needed libraries\n",
    "\n",
    "import pandas as pd\n",
    "import numpy as np\n",
    "import seaborn as sns\n",
    "\n",
    "import warnings\n",
    "warnings.filterwarnings('ignore')\n"
   ]
  },
  {
   "cell_type": "code",
   "execution_count": null,
   "id": "adaptive-easter",
   "metadata": {},
   "outputs": [],
   "source": [
    "train_data=pd.read_csv(\"Train.csv\")"
   ]
  },
  {
   "cell_type": "code",
   "execution_count": null,
   "id": "acceptable-composition",
   "metadata": {},
   "outputs": [],
   "source": [
    "train_data"
   ]
  },
  {
   "cell_type": "code",
   "execution_count": null,
   "id": "streaming-module",
   "metadata": {},
   "outputs": [],
   "source": [
    "#from pandas_profiling import ProfileReport"
   ]
  },
  {
   "cell_type": "code",
   "execution_count": null,
   "id": "instructional-particle",
   "metadata": {},
   "outputs": [],
   "source": [
    "#profile = ProfileReport(train_data,explorative=True)"
   ]
  },
  {
   "cell_type": "code",
   "execution_count": null,
   "id": "fabulous-order",
   "metadata": {},
   "outputs": [],
   "source": [
    "#profile.to_widgets()"
   ]
  },
  {
   "cell_type": "code",
   "execution_count": null,
   "id": "maritime-legislature",
   "metadata": {},
   "outputs": [],
   "source": [
    "import matplotlib.pyplot as plt"
   ]
  },
  {
   "cell_type": "code",
   "execution_count": null,
   "id": "valuable-candy",
   "metadata": {},
   "outputs": [],
   "source": [
    "train_data['Item_Fat_Content'] = train_data['Item_Fat_Content'].map({\"low fat\":\"Low Fat\",\n",
    "                                                                    \"Low Fat\":\"Low Fat\",\n",
    "                                                                    \"LF\":\"Low Fat\",\n",
    "                                                                    \"Regular\":\"Regular\",\n",
    "                                                                    \"reg\":\"Regular\"})"
   ]
  },
  {
   "cell_type": "code",
   "execution_count": null,
   "id": "smooth-luther",
   "metadata": {},
   "outputs": [],
   "source": [
    "print(train_data['Item_Fat_Content'].unique())"
   ]
  },
  {
   "cell_type": "code",
   "execution_count": null,
   "id": "demanding-queensland",
   "metadata": {},
   "outputs": [],
   "source": [
    "sns.scatterplot(x='Item_Visibility',y=\"Item_MRP\",data=train_data,hue=\"Outlet_Location_Type\")"
   ]
  },
  {
   "cell_type": "code",
   "execution_count": null,
   "id": "exact-saturn",
   "metadata": {},
   "outputs": [],
   "source": [
    "sns.scatterplot(x='Item_Visibility',y=\"Item_MRP\",data=train_data,hue=\"Outlet_Location_Type\",legend=None)"
   ]
  },
  {
   "cell_type": "markdown",
   "id": "focused-campbell",
   "metadata": {},
   "source": [
    "# Observations"
   ]
  },
  {
   "cell_type": "markdown",
   "id": "overall-yugoslavia",
   "metadata": {},
   "source": [
    "- If MRP is high,visibility is less of tier2 and tier3 but tier1 is very high to costly products \n",
    "- tier2 having no visibility more 0.17 and 0.18 \n",
    "- tier3 have some"
   ]
  },
  {
   "cell_type": "code",
   "execution_count": null,
   "id": "stainless-sending",
   "metadata": {},
   "outputs": [],
   "source": [
    "plt.figure(figsize=(15,16))\n",
    "sns.scatterplot(x='Item_MRP',y=\"Item_Outlet_Sales\",data=train_data,hue=\"Item_Type\")"
   ]
  },
  {
   "cell_type": "markdown",
   "id": "novel-context",
   "metadata": {},
   "source": [
    "# Observations"
   ]
  },
  {
   "cell_type": "markdown",
   "id": "sealed-solomon",
   "metadata": {},
   "source": [
    "- Household items makes more than 12000 of sales with low MRP\n",
    "- Fruits also make more than 10000 sales"
   ]
  },
  {
   "cell_type": "markdown",
   "id": "round-trance",
   "metadata": {},
   "source": [
    "# Check the countplots of categorical column"
   ]
  },
  {
   "cell_type": "code",
   "execution_count": null,
   "id": "committed-sperm",
   "metadata": {},
   "outputs": [],
   "source": [
    "sns.countplot(x='Item_Fat_Content',data=train_data)"
   ]
  },
  {
   "cell_type": "code",
   "execution_count": null,
   "id": "fifty-collaboration",
   "metadata": {},
   "outputs": [],
   "source": [
    "sns.countplot(x='Outlet_Type',data=train_data)"
   ]
  },
  {
   "cell_type": "code",
   "execution_count": null,
   "id": "worth-examination",
   "metadata": {},
   "outputs": [],
   "source": [
    "train_data"
   ]
  },
  {
   "cell_type": "code",
   "execution_count": null,
   "id": "abandoned-picking",
   "metadata": {},
   "outputs": [],
   "source": [
    "no_need=[\"Item_Identifier\",\"Outlet_Identifier\"]"
   ]
  },
  {
   "cell_type": "code",
   "execution_count": null,
   "id": "banner-miami",
   "metadata": {},
   "outputs": [],
   "source": [
    "train_data.drop(no_need,axis=1,inplace=True)"
   ]
  },
  {
   "cell_type": "code",
   "execution_count": null,
   "id": "boxed-roommate",
   "metadata": {},
   "outputs": [],
   "source": [
    "train_data"
   ]
  },
  {
   "cell_type": "code",
   "execution_count": null,
   "id": "desirable-diabetes",
   "metadata": {},
   "outputs": [],
   "source": [
    "train_data.isnull().sum()"
   ]
  },
  {
   "cell_type": "code",
   "execution_count": null,
   "id": "facial-miracle",
   "metadata": {},
   "outputs": [],
   "source": [
    "train_data['Item_Weight'].fillna(train_data['Item_Weight'].median(),inplace=True)"
   ]
  },
  {
   "cell_type": "code",
   "execution_count": null,
   "id": "respected-virus",
   "metadata": {},
   "outputs": [],
   "source": [
    "train_data['Outlet_Size'].fillna(train_data['Outlet_Size'].mode()[0],inplace=True)"
   ]
  },
  {
   "cell_type": "code",
   "execution_count": null,
   "id": "supported-theater",
   "metadata": {},
   "outputs": [],
   "source": [
    "train_data.isnull().sum()"
   ]
  },
  {
   "cell_type": "code",
   "execution_count": null,
   "id": "technical-rouge",
   "metadata": {},
   "outputs": [],
   "source": [
    "numerical_columns = train_data.select_dtypes(exclude=\"object\")"
   ]
  },
  {
   "cell_type": "code",
   "execution_count": null,
   "id": "automotive-geography",
   "metadata": {},
   "outputs": [],
   "source": [
    "numerical_columns"
   ]
  },
  {
   "cell_type": "code",
   "execution_count": null,
   "id": "electrical-shelter",
   "metadata": {},
   "outputs": [],
   "source": [
    "cols = numerical_columns.columns"
   ]
  },
  {
   "cell_type": "code",
   "execution_count": null,
   "id": "ordinary-windsor",
   "metadata": {},
   "outputs": [],
   "source": [
    "cols"
   ]
  },
  {
   "cell_type": "code",
   "execution_count": null,
   "id": "baking-chaos",
   "metadata": {},
   "outputs": [],
   "source": [
    "for i in cols:\n",
    "    plt.figure(figsize=(8,6))\n",
    "    sns.boxplot(data=train_data,x=i)\n",
    "    plt.xlabel(i,fontsize=13)"
   ]
  },
  {
   "cell_type": "code",
   "execution_count": null,
   "id": "domestic-sense",
   "metadata": {},
   "outputs": [],
   "source": [
    "def remove(dataframe,column):\n",
    "    Q3 = dataframe[column].quantile(0.75)\n",
    "    Q1 = dataframe[column].quantile(0.25)\n",
    "    IQR = Q3 - Q1\n",
    "    upper = Q3 + (1.5 * IQR)\n",
    "    lower = Q1 + (1.5 * IQR)\n",
    "    df_no_outliers = dataframe[(dataframe[column]>lower) & (dataframe[column]<upper)]\n",
    "    return df_no_outliers"
   ]
  },
  {
   "cell_type": "code",
   "execution_count": null,
   "id": "gentle-documentary",
   "metadata": {},
   "outputs": [],
   "source": [
    "train_data = remove(train_data,\"Item_Outlet_Sales\")"
   ]
  },
  {
   "cell_type": "code",
   "execution_count": null,
   "id": "brave-palestinian",
   "metadata": {},
   "outputs": [],
   "source": [
    "train_data = remove(train_data,\"Item_Visibility\")"
   ]
  },
  {
   "cell_type": "code",
   "execution_count": null,
   "id": "fleet-magazine",
   "metadata": {},
   "outputs": [],
   "source": [
    "for i in cols:\n",
    "    plt.figure(figsize=(8,3))\n",
    "    sns.distplot(train_data[i])"
   ]
  },
  {
   "cell_type": "code",
   "execution_count": null,
   "id": "rural-stereo",
   "metadata": {},
   "outputs": [],
   "source": [
    "train_data['Item_Visibility']=np.sqrt(train_data['Item_Visibility'])"
   ]
  },
  {
   "cell_type": "code",
   "execution_count": null,
   "id": "modified-affairs",
   "metadata": {},
   "outputs": [],
   "source": [
    "sns.displot(train_data['Item_Visibility'])"
   ]
  },
  {
   "cell_type": "code",
   "execution_count": null,
   "id": "radical-starter",
   "metadata": {},
   "outputs": [],
   "source": [
    "categorical_data=train_data.select_dtypes(include=\"object\")"
   ]
  },
  {
   "cell_type": "code",
   "execution_count": null,
   "id": "favorite-tulsa",
   "metadata": {},
   "outputs": [],
   "source": [
    "categorical_data"
   ]
  },
  {
   "cell_type": "code",
   "execution_count": null,
   "id": "accompanied-nerve",
   "metadata": {},
   "outputs": [],
   "source": [
    "column_names=categorical_data.columns"
   ]
  },
  {
   "cell_type": "code",
   "execution_count": null,
   "id": "ideal-jaguar",
   "metadata": {},
   "outputs": [],
   "source": [
    "for i in column_names:\n",
    "    print(train_data[i].unique())"
   ]
  },
  {
   "cell_type": "code",
   "execution_count": null,
   "id": "humanitarian-butter",
   "metadata": {},
   "outputs": [],
   "source": [
    "train_data"
   ]
  },
  {
   "cell_type": "code",
   "execution_count": null,
   "id": "under-therapy",
   "metadata": {},
   "outputs": [],
   "source": [
    "train_data['Outlet_age']=train_data['Outlet_Establishment_Year'].apply(lambda year:2021-year)"
   ]
  },
  {
   "cell_type": "code",
   "execution_count": null,
   "id": "linear-mediterranean",
   "metadata": {},
   "outputs": [],
   "source": [
    "train_data"
   ]
  },
  {
   "cell_type": "code",
   "execution_count": null,
   "id": "confidential-matrix",
   "metadata": {},
   "outputs": [],
   "source": [
    "sns.heatmap(train_data.corr(),cmap=\"rocket\")"
   ]
  },
  {
   "cell_type": "code",
   "execution_count": null,
   "id": "authentic-telescope",
   "metadata": {},
   "outputs": [],
   "source": [
    "from sklearn import preprocessing\n",
    "label=preprocessing.LabelEncoder()\n",
    "train_data['Outlet_Size']=label.fit_transform(train_data['Outlet_Size'])"
   ]
  },
  {
   "cell_type": "code",
   "execution_count": null,
   "id": "about-exposure",
   "metadata": {},
   "outputs": [],
   "source": [
    "train_data"
   ]
  },
  {
   "cell_type": "raw",
   "id": "known-return",
   "metadata": {},
   "source": [
    "Large=0\n",
    "Medium=1\n",
    "Small=2"
   ]
  },
  {
   "cell_type": "code",
   "execution_count": null,
   "id": "collect-equivalent",
   "metadata": {},
   "outputs": [],
   "source": [
    "final_data=pd.get_dummies(train_data,drop_first=True)"
   ]
  },
  {
   "cell_type": "code",
   "execution_count": null,
   "id": "arranged-theta",
   "metadata": {},
   "outputs": [],
   "source": [
    "final_data"
   ]
  },
  {
   "cell_type": "code",
   "execution_count": null,
   "id": "fabulous-comedy",
   "metadata": {},
   "outputs": [],
   "source": [
    "X=final_data.drop(columns=['Item_Outlet_Sales'],axis=1)\n",
    "Y=final_data['Item_Outlet_Sales']"
   ]
  },
  {
   "cell_type": "code",
   "execution_count": null,
   "id": "demanding-overview",
   "metadata": {},
   "outputs": [],
   "source": [
    "from sklearn.model_selection import train_test_split\n",
    "X_train,X_test,Y_train,Y_test=train_test_split(X,Y,test_size=0.25,random_state=0)"
   ]
  },
  {
   "cell_type": "code",
   "execution_count": null,
   "id": "detected-fifteen",
   "metadata": {},
   "outputs": [],
   "source": [
    "from sklearn.ensemble import RandomForestRegressor"
   ]
  },
  {
   "cell_type": "code",
   "execution_count": null,
   "id": "attended-zambia",
   "metadata": {},
   "outputs": [],
   "source": [
    "model=RandomForestRegressor()\n",
    "model.fit(X_train,Y_train)"
   ]
  },
  {
   "cell_type": "code",
   "execution_count": null,
   "id": "adopted-charity",
   "metadata": {},
   "outputs": [],
   "source": [
    "prediction1=model.predict(X_test)"
   ]
  },
  {
   "cell_type": "code",
   "execution_count": null,
   "id": "placed-guidance",
   "metadata": {},
   "outputs": [],
   "source": [
    "prediction1"
   ]
  },
  {
   "cell_type": "code",
   "execution_count": null,
   "id": "sublime-anthony",
   "metadata": {},
   "outputs": [],
   "source": [
    "from xgboost import XGBRegressor"
   ]
  },
  {
   "cell_type": "code",
   "execution_count": null,
   "id": "generic-trader",
   "metadata": {},
   "outputs": [],
   "source": [
    "model2=XGBRegressor()\n",
    "model2.fit(X_train,Y_train)"
   ]
  },
  {
   "cell_type": "code",
   "execution_count": null,
   "id": "genuine-transportation",
   "metadata": {},
   "outputs": [],
   "source": [
    "prediction2=model2.predict(X_test)"
   ]
  },
  {
   "cell_type": "code",
   "execution_count": null,
   "id": "fifteen-banner",
   "metadata": {},
   "outputs": [],
   "source": [
    "prediction2"
   ]
  },
  {
   "cell_type": "code",
   "execution_count": null,
   "id": "altered-abuse",
   "metadata": {},
   "outputs": [],
   "source": [
    "#xgb_reg = XGBRegressor()\n",
    "#xgb_reg.fit(X_train,Y_train)\n",
    "#xgb_reg.score(X_train,Y_train)\n",
    "\n",
    "#lin_reg = LinearRegression()\n",
    "#lin_reg.fit(X, Y)\n",
    "#lin_reg.score(X, Y)\n",
    "\n",
    "#rf_reg = RandomForestRegressor()\n",
    "#rf_reg.fit(X, Y)\n",
    "#rf_reg.score(X, Y)\n",
    "\n",
    "#ridge_reg = Ridge(alpha = 0.1)\n",
    "#ridge_reg.fit(X, Y)\n",
    "#ridge_reg.score(X, Y)\n",
    "\n",
    "#lasso_reg = Lasso(alpha = 0.1)\n",
    "#lasso_reg.fit(X, Y)\n",
    "#lasso_reg.score(X, Y)\n",
    "\n",
    "#ab_reg = AdaBoostRegressor(loss = \"linear\")\n",
    "#ab_reg.fit(X, Y)\n",
    "#ab_reg.score(X, Y)\n",
    "\n",
    "#gb_reg = GradientBoostingRegressor(max_depth = 7, max_features = 4, n_estimators = 35)\n",
    "#gb_reg.fit(X_train,Y_train)\n",
    "#gb_reg.score(X_train,Y_train)"
   ]
  },
  {
   "cell_type": "code",
   "execution_count": null,
   "id": "demonstrated-vault",
   "metadata": {},
   "outputs": [],
   "source": [
    "xgb_reg = XGBRegressor()\n",
    "xgb_reg.fit(X_train,Y_train)\n",
    "xgb_reg.score(X_train,Y_train)"
   ]
  },
  {
   "cell_type": "code",
   "execution_count": null,
   "id": "negative-viking",
   "metadata": {},
   "outputs": [],
   "source": [
    "lin_reg = LinearRegression()\n",
    "lin_reg.fit(X, Y)\n",
    "lin_reg.score(X, Y)"
   ]
  },
  {
   "cell_type": "code",
   "execution_count": null,
   "id": "focal-schema",
   "metadata": {},
   "outputs": [],
   "source": [
    "rf_reg = RandomForestRegressor()\n",
    "rf_reg.fit(X, Y)\n",
    "rf_reg.score(X, Y)"
   ]
  },
  {
   "cell_type": "code",
   "execution_count": null,
   "id": "indian-gothic",
   "metadata": {},
   "outputs": [],
   "source": [
    "ridge_reg = Ridge(alpha = 0.1)\n",
    "ridge_reg.fit(X, Y)\n",
    "ridge_reg.score(X, Y)"
   ]
  },
  {
   "cell_type": "code",
   "execution_count": null,
   "id": "compatible-father",
   "metadata": {},
   "outputs": [],
   "source": [
    "lasso_reg = Lasso(alpha = 0.1)\n",
    "lasso_reg.fit(X, Y)\n",
    "lasso_reg.score(X, Y)"
   ]
  },
  {
   "cell_type": "code",
   "execution_count": null,
   "id": "powered-document",
   "metadata": {},
   "outputs": [],
   "source": [
    "ab_reg = AdaBoostRegressor(loss = \"linear\")\n",
    "ab_reg.fit(X, Y)\n",
    "ab_reg.score(X, Y)"
   ]
  },
  {
   "cell_type": "code",
   "execution_count": null,
   "id": "fresh-batch",
   "metadata": {},
   "outputs": [],
   "source": [
    "gb_reg = GradientBoostingRegressor(max_depth = 7, max_features = 4, n_estimators = 35)\n",
    "gb_reg.fit(X_train,Y_train)\n",
    "gb_reg.score(X_train,Y_train)"
   ]
  },
  {
   "cell_type": "code",
   "execution_count": null,
   "id": "impressive-judge",
   "metadata": {},
   "outputs": [],
   "source": [
    "import pickle\n",
    "#file=open(\"final.pkl\",\"wb\")\n",
    "#pickle.dump(model,file)"
   ]
  },
  {
   "cell_type": "code",
   "execution_count": null,
   "id": "tired-piece",
   "metadata": {},
   "outputs": [],
   "source": [
    "# Save the model as serialized object pickle\n",
    "with open('final.pkl', 'wb') as file:\n",
    "    pickle.dump(model, file)"
   ]
  },
  {
   "cell_type": "code",
   "execution_count": null,
   "id": "pleasant-details",
   "metadata": {},
   "outputs": [],
   "source": []
  }
 ],
 "metadata": {
  "kernelspec": {
   "display_name": "Python 3",
   "language": "python",
   "name": "python3"
  },
  "language_info": {
   "codemirror_mode": {
    "name": "ipython",
    "version": 3
   },
   "file_extension": ".py",
   "mimetype": "text/x-python",
   "name": "python",
   "nbconvert_exporter": "python",
   "pygments_lexer": "ipython3",
   "version": "3.9.6"
  }
 },
 "nbformat": 4,
 "nbformat_minor": 5
}
